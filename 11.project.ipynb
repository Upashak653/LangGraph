{
 "cells": [
  {
   "cell_type": "code",
   "execution_count": 51,
   "id": "f05fa071",
   "metadata": {},
   "outputs": [],
   "source": [
    "from langgraph.graph import StateGraph,START,END\n",
    "from typing import TypedDict, Annotated\n",
    "from langchain_core.messages import BaseMessage, HumanMessage\n",
    "from langchain_openai import ChatOpenAI\n",
    "from langgraph.checkpoint.memory import MemorySaver\n",
    "from dotenv import load_dotenv"
   ]
  },
  {
   "cell_type": "code",
   "execution_count": 52,
   "id": "72e156ae",
   "metadata": {},
   "outputs": [
    {
     "data": {
      "text/plain": [
       "True"
      ]
     },
     "execution_count": 52,
     "metadata": {},
     "output_type": "execute_result"
    }
   ],
   "source": [
    "load_dotenv()\n"
   ]
  },
  {
   "cell_type": "code",
   "execution_count": 53,
   "id": "886c4b37",
   "metadata": {},
   "outputs": [],
   "source": [
    "generator_llm = ChatOpenAI(model='gpt-4o-mini')\n",
    "summarizer_llm = ChatOpenAI(model='gpt-4o')\n"
   ]
  },
  {
   "cell_type": "code",
   "execution_count": 63,
   "id": "6ffc08bd",
   "metadata": {},
   "outputs": [],
   "source": [
    "class summarized(TypedDict):\n",
    "    topic:str\n",
    "    generated_text:str\n",
    "    summarized_text:str\n",
    "\n",
    "    words:int\n"
   ]
  },
  {
   "cell_type": "code",
   "execution_count": 64,
   "id": "49b18abd",
   "metadata": {},
   "outputs": [],
   "source": [
    "def generated_text(state:summarized)->dict:\n",
    "    topic = state['topic']\n",
    "    words = state['words']\n",
    "    prompt=f'Generate a detailed article about {topic} \\n maximum {words} words.'\n",
    "    ans=generator_llm.invoke(prompt).content\n",
    "    return {'generated_text': ans}"
   ]
  },
  {
   "cell_type": "code",
   "execution_count": 69,
   "id": "fd315be5",
   "metadata": {},
   "outputs": [],
   "source": [
    "def summarized_text(state:summarized)->dict:\n",
    "    topic = state['topic']\n",
    "    prompt=f'Summarize the following article about {topic}: {state[\"generated_text\"]}'\n",
    "    ans=summarizer_llm.invoke(prompt).content\n",
    "    return {'summarized_text': ans}"
   ]
  },
  {
   "cell_type": "code",
   "execution_count": 70,
   "id": "eaedf704",
   "metadata": {},
   "outputs": [],
   "source": [
    "graph = StateGraph(summarized)\n",
    "\n",
    "graph.add_node('generated_text',generated_text)\n",
    "graph.add_node('summarized_text',summarized_text)\n",
    "\n",
    "\n",
    "graph.add_edge(START,'generated_text')\n",
    "graph.add_edge('generated_text', 'summarized_text')\n",
    "graph.add_edge('summarized_text', END)\n",
    "\n",
    "workflow=graph.compile()\n"
   ]
  },
  {
   "cell_type": "code",
   "execution_count": 71,
   "id": "e07e628b",
   "metadata": {},
   "outputs": [
    {
     "data": {
      "image/png": "[encoded data removed]",
      "text/plain": [
       "<langgraph.graph.state.CompiledStateGraph object at 0x0000018DC4920980>"
      ]
     },
     "execution_count": 71,
     "metadata": {},
     "output_type": "execute_result"
    }
   ],
   "source": [
    "workflow"
   ]
  },
  {
   "cell_type": "code",
   "execution_count": 73,
   "id": "a58bb952",
   "metadata": {},
   "outputs": [],
   "source": [
    "initial_state = {\n",
    "    'topic': 'Artificial Intelligence',\n",
    "    'words': 50\n",
    "}\n",
    "result =workflow.invoke(initial_state)"
   ]
  },
  {
   "cell_type": "code",
   "execution_count": 81,
   "id": "6d8a5d7d",
   "metadata": {},
   "outputs": [
    {
     "name": "stdout",
     "output_type": "stream",
     "text": [
      "The article describes Artificial Intelligence (AI) as the replication of human intelligence in machines built to emulate human thought and behavior. It includes technologies like machine learning, natural language processing, and robotics. AI's primary goals are to address complex issues, boost efficiency, and enhance decision-making in various sectors, transforming everyday life and work practices.\n"
     ]
    }
   ],
   "source": [
    "print(result['summarized_text'])"
   ]
  }
 ],
 "metadata": {
  "kernelspec": {
   "display_name": "myenv",
   "language": "python",
   "name": "python3"
  },
  "language_info": {
   "codemirror_mode": {
    "name": "ipython",
    "version": 3
   },
   "file_extension": ".py",
   "mimetype": "text/x-python",
   "name": "python",
   "nbconvert_exporter": "python",
   "pygments_lexer": "ipython3",
   "version": "3.12.3"
  }
 },
 "nbformat": 4,
 "nbformat_minor": 5
}
